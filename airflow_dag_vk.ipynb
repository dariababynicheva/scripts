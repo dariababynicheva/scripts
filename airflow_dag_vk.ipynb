{
 "cells": [
  {
   "cell_type": "markdown",
   "metadata": {},
   "source": [
    "Задание:\n",
    "\n",
    "В данных вы найдете информацию о событиях, которые произошли с объявлением 121288 за два дня. Рассчитайте следующие метрики в разрезе каждого дня: количество показов, количество кликов, CTR, сумма потраченных денег за 2019-04-01 и 2019-04-02, найдите процентную разницу между этими метриками. \n",
    "\n",
    "Создайте текстовый файл, в котором будет собрана информация о том, какие метрики наблюдаются 2 апреля, а также, на сколько процентов они уменьшились по сравнению со вчера. Отправьте получившийся текст к себе в личные сообщения во ВКонтакте в виде сообщения со сводкой метрик. Все предыдущие шаги оформите в виде исполняемого скрипта (скриптов) и скрипта для DAG-а, в котором при помощи BashOperator-а (или других операторов на ваше усмотрение) будет вызываться исполняемый скрипт (скрипты). В расписании для крона укажите каждый понедельник в 12 утра. Так, чтобы ваш скрипт с рассчетом дневных метрик отправлялся вам в личку каждый понедельник в 12 утра из Airflow."
   ]
  },
  {
   "cell_type": "markdown",
   "metadata": {},
   "source": [
    "Импорт библиотек"
   ]
  },
  {
   "cell_type": "code",
   "execution_count": null,
   "metadata": {},
   "outputs": [],
   "source": [
    "from airflow import DAG\n",
    "from airflow.operators.python_operator import PythonOperator\n",
    "import pandas as pd\n",
    "import numpy as np\n",
    "from datetime import datetime\n",
    "import vk_api\n",
    "import random"
   ]
  },
  {
   "cell_type": "markdown",
   "metadata": {},
   "source": [
    "Дефолтные аргументы"
   ]
  },
  {
   "cell_type": "code",
   "execution_count": null,
   "metadata": {},
   "outputs": [],
   "source": [
    "default_args = {\n",
    "    'owner': 'dbabynicheva',\n",
    "    'depends_on_past': False,\n",
    "    'start_date': datetime(2020, 10, 1),\n",
    "    'retries': 0\n",
    "}"
   ]
  },
  {
   "cell_type": "markdown",
   "metadata": {},
   "source": [
    "Создание DAG"
   ]
  },
  {
   "cell_type": "code",
   "execution_count": null,
   "metadata": {},
   "outputs": [],
   "source": [
    "dag = DAG(dag_id='dag_vk_project_dbabynicheva',\n",
    "          default_args=default_args,\n",
    "          catchup=False,\n",
    "          schedule_interval='00 12 * * 1')"
   ]
  },
  {
   "cell_type": "markdown",
   "metadata": {},
   "source": [
    "Функция, которая делает подсчет метрик и отправляет их в vk по api"
   ]
  },
  {
   "cell_type": "code",
   "execution_count": null,
   "metadata": {},
   "outputs": [],
   "source": [
    "def vk_report():\n",
    "\n",
    "    #  считывание данных\n",
    "    input_data = pd.read_csv('https://docs.google.com/spreadsheets/d/e/2PACX-1vR-ti6Su94955DZ4Tky8EbwifpgZf_dTjpBdiVH0Ukhsq94jZdqoHuUytZsFZKfwpXEUCKRFteJRc9P/pub?gid=889004448&single=true&output=csv')\n",
    "\n",
    "    print('Данные импортированны')\n",
    "\n",
    "    # подсчет уникальных рекламных событий\n",
    "    events_number = input_data \\\n",
    "        .groupby(['date', 'event'], as_index=False) \\\n",
    "        .agg({'ad_id': 'count'}) \\\n",
    "        .rename(columns={'ad_id': 'events_count'}).reset_index()\n",
    "\n",
    "    # транспонирование в pivot таблицу\n",
    "    ad_data = events_number.pivot(index='date', columns='event', values='events_count')\n",
    "\n",
    "    # подсчет метрик: CTR, суммы потраченных денег, процентной разницы\n",
    "    ad_data['CTR'] = ad_data['click'] / ad_data['view']\n",
    "    ad_data['budget'] = input_data.ad_cost[1]/1000 * ad_data.view\n",
    "    click_ratio = round((ad_data.click[1] - ad_data.click[0]) / ad_data.click[0] * 100)\n",
    "    view_ratio = round((ad_data.view[1] - ad_data.view[0]) / ad_data.view[0] * 100)\n",
    "    CTR_ratio = round((ad_data.CTR[1] - ad_data.CTR[0]) / ad_data.CTR[0] * 100)\n",
    "    budget_ratio = round((ad_data.budget[1] - ad_data.budget[0]) / ad_data.budget[0] * 100)\n",
    "\n",
    "    print('Рекламные метрики рассчитаны'"
   ]
  },
  {
   "cell_type": "markdown",
   "metadata": {},
   "source": [
    "Создание отчета vk"
   ]
  },
  {
   "cell_type": "code",
   "execution_count": null,
   "metadata": {},
   "outputs": [],
   "source": [
    "vk_message = f'''Отчет по объявлению 121288 за 2 апреля\\n\n",
    "            Траты: {ad_data.budget[1]} ({budget_ratio}%)\n",
    "            Показы: {ad_data.view[1]} ({view_ratio}%)\n",
    "            Клики: {ad_data.click[1]} ({click_ratio}%)\n",
    "            CTR: {ad_data.CTR[1]} ({CTR_ratio}%)'''\n",
    "\n",
    "    print('Отчет сформирован')"
   ]
  },
  {
   "cell_type": "markdown",
   "metadata": {},
   "source": [
    "Отправка отчета в vk"
   ]
  },
  {
   "cell_type": "code",
   "execution_count": null,
   "metadata": {},
   "outputs": [],
   "source": [
    "token = '_____'\n",
    "    chat_id = 1\n",
    "    vk_session = vk_api.VkApi(token=token)\n",
    "    vk = vk_session.get_api()\n",
    "\n",
    "    vk.messages.send(\n",
    "        chat_id=chat_id,\n",
    "        random_id=random.randint(1, 2 ** 31),\n",
    "        message=vk_message)\n",
    "\n",
    "    print('Отчет отправлен')"
   ]
  },
  {
   "cell_type": "markdown",
   "metadata": {},
   "source": [
    "Создаем таску"
   ]
  },
  {
   "cell_type": "code",
   "execution_count": null,
   "metadata": {},
   "outputs": [],
   "source": [
    "t1 = PythonOperator(task_id='vk_report', # создаем таску\n",
    "                        python_callable=vk_report, # передаем функцию в первую таску для DAG'a\n",
    "                        dag=dag) # передаем dag"
   ]
  }
 ],
 "metadata": {
  "kernelspec": {
   "display_name": "Python 3",
   "language": "python",
   "name": "python3"
  },
  "language_info": {
   "codemirror_mode": {
    "name": "ipython",
    "version": 3
   },
   "file_extension": ".py",
   "mimetype": "text/x-python",
   "name": "python",
   "nbconvert_exporter": "python",
   "pygments_lexer": "ipython3",
   "version": "3.7.4"
  }
 },
 "nbformat": 4,
 "nbformat_minor": 2
}
